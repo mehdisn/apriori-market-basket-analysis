{
 "cells": [
  {
   "cell_type": "markdown",
   "id": "21e28889",
   "metadata": {},
   "source": [
    "<h1>Importing necessary packages</h1>"
   ]
  },
  {
   "cell_type": "code",
   "execution_count": 2,
   "id": "5fd02c2a",
   "metadata": {},
   "outputs": [],
   "source": [
    "import numpy as np\n",
    "import pandas as pd"
   ]
  },
  {
   "cell_type": "markdown",
   "id": "a6fe7c00",
   "metadata": {},
   "source": [
    "<h1>Reading the dataset</h1>"
   ]
  },
  {
   "cell_type": "code",
   "execution_count": 3,
   "id": "cdff37af",
   "metadata": {},
   "outputs": [
    {
     "data": {
      "text/plain": [
       "989818"
      ]
     },
     "execution_count": 3,
     "metadata": {},
     "output_type": "execute_result"
    }
   ],
   "source": [
    "df = open('msnbc990928.txt', \"r\")\n",
    "lines = df.readlines()\n",
    "\n",
    "for index, line in enumerate(lines):\n",
    "      lines[index] = list(map(int, line.strip().split()))\n",
    "R = sum(1 for line in lines)\n",
    "C = 17\n",
    "matrix = np.zeros((R, C), dtype=int)\n",
    "R"
   ]
  },
  {
   "cell_type": "markdown",
   "id": "e48d355a",
   "metadata": {},
   "source": [
    "<h1>Creating the matrix and converting it to a DataFrame</h1>"
   ]
  },
  {
   "cell_type": "code",
   "execution_count": 4,
   "id": "5c35f6e6",
   "metadata": {},
   "outputs": [],
   "source": [
    "for index, line in enumerate(lines):\n",
    "    for item in line:\n",
    "        matrix[index, item-1]=1"
   ]
  },
  {
   "cell_type": "code",
   "execution_count": 5,
   "id": "3f15d196",
   "metadata": {},
   "outputs": [],
   "source": [
    "df = pd.DataFrame(data=matrix)\n",
    "df.columns = pd.RangeIndex(1, len(df.columns)+1) \n",
    "df.index = pd.RangeIndex(1, len(df.index)+1) \n",
    "df = df.astype('bool')"
   ]
  },
  {
   "cell_type": "markdown",
   "id": "d9e7c867",
   "metadata": {},
   "source": [
    "<h1>Function for creating C1 itemset</h1>"
   ]
  },
  {
   "cell_type": "code",
   "execution_count": 6,
   "id": "c5966625",
   "metadata": {},
   "outputs": [],
   "source": [
    "C1=[]\n",
    "def create_c1(data_set):\n",
    "    for item in data_set.columns.values:\n",
    "        if not [item] in C1:\n",
    "                C1.append([item])\n",
    "                \n",
    "    C1.sort()\n",
    "    return list(map(frozenset, C1))"
   ]
  },
  {
   "cell_type": "markdown",
   "id": "da3bc6c8",
   "metadata": {},
   "source": [
    "<h1>Functrin for creating Lk</h1>"
   ]
  },
  {
   "cell_type": "code",
   "execution_count": 7,
   "id": "60849a6d",
   "metadata": {},
   "outputs": [],
   "source": [
    "def generate_Lk_by_Ck(data_set, Ck, min_support, support_data):\n",
    "    Lk = set()\n",
    "    item_count = {}\n",
    "    for t in Ck:\n",
    "        item_count[t] = 0\n",
    "        for item in data_set[t].values.tolist():\n",
    "            if all(item) == True:\n",
    "                item_count[t] += 1\n",
    "    t_num = float(len(data_set))\n",
    "    for item in item_count:\n",
    "        if (item_count[item] / t_num) >= min_support:\n",
    "            Lk.add(item)\n",
    "            support_data[item] = item_count[item] / t_num\n",
    "    return Lk"
   ]
  },
  {
   "cell_type": "markdown",
   "id": "fc2f075b",
   "metadata": {},
   "source": [
    "<h1>Check if the aggregated item is in L1 itemset</h1>"
   ]
  },
  {
   "cell_type": "code",
   "execution_count": null,
   "id": "c9bdf808",
   "metadata": {},
   "outputs": [],
   "source": [
    "def is_apriori(Ck_item, Lksub1):\n",
    "    for item in Ck_item:\n",
    "        sub_Ck = Ck_item - frozenset([item])\n",
    "        if sub_Ck not in Lksub1:\n",
    "            return False\n",
    "    return True"
   ]
  },
  {
   "cell_type": "markdown",
   "id": "4596eacd",
   "metadata": {},
   "source": [
    "<h1>Function for creating Ck</h1>"
   ]
  },
  {
   "cell_type": "code",
   "execution_count": 8,
   "id": "db794754",
   "metadata": {},
   "outputs": [],
   "source": [
    "def create_Ck(Lksub1, k):\n",
    "    Ck = set()\n",
    "    len_Lksub1 = len(Lksub1)\n",
    "    list_Lksub1 = list(Lksub1)\n",
    "    for i in range(len_Lksub1):\n",
    "        for j in range(1, len_Lksub1):\n",
    "            l1 = list(list_Lksub1[i])\n",
    "            l2 = list(list_Lksub1[j])\n",
    "            l1.sort()\n",
    "            l2.sort()\n",
    "            if l1[0:k-2] == l2[0:k-2]:\n",
    "                Ck_item = list_Lksub1[i] | list_Lksub1[j]\n",
    "                # pruning\n",
    "                if is_apriori(Ck_item, Lksub1):\n",
    "                    Ck.add(Ck_item)\n",
    "    return Ck"
   ]
  },
  {
   "cell_type": "markdown",
   "id": "3904e853",
   "metadata": {},
   "source": [
    "<h1>Generating Lk</h1>"
   ]
  },
  {
   "cell_type": "code",
   "execution_count": 10,
   "id": "343786dc",
   "metadata": {},
   "outputs": [],
   "source": [
    "def generate_L(data_set, k, min_support):\n",
    "    support_data = {}\n",
    "    c1 = create_c1(data_set)\n",
    "    L1 = generate_Lk_by_Ck(data_set, c1, min_support, support_data)\n",
    "    Lksub1 = L1.copy()\n",
    "    L = []\n",
    "    L.append(Lksub1)\n",
    "    for i in range(2, k+1):\n",
    "        Ci = create_Ck(Lksub1, i)\n",
    "        Li = generate_Lk_by_Ck(data_set, Ci, min_support, support_data)\n",
    "        Lksub1 = Li.copy()\n",
    "        L.append(Lksub1)\n",
    "    return L, support_data"
   ]
  },
  {
   "cell_type": "code",
   "execution_count": 11,
   "id": "7a479970",
   "metadata": {},
   "outputs": [],
   "source": [
    "L, support_data = generate_L(df, k=17, min_support=0.001)"
   ]
  },
  {
   "cell_type": "markdown",
   "id": "48c7823b",
   "metadata": {},
   "source": [
    "<h1>Function to find rules from L and support data</h1>"
   ]
  },
  {
   "cell_type": "code",
   "execution_count": 12,
   "id": "64a4908a",
   "metadata": {},
   "outputs": [],
   "source": [
    "def generate_rules(L, support_data, min_conf):\n",
    "    rule_list = []\n",
    "    sub_set_list = []\n",
    "    for i in range(0, len(L)):\n",
    "        for freq_set in L[i]:\n",
    "            for sub_set in sub_set_list:\n",
    "                if sub_set.issubset(freq_set):\n",
    "                    conf = support_data[freq_set] / support_data[freq_set - sub_set]\n",
    "                    rule = (freq_set - sub_set, sub_set, conf)\n",
    "                    if conf >= min_conf and rule not in rule_list:\n",
    "                        # print freq_set-sub_set, \" => \", sub_set, \"conf: \", conf\n",
    "                        rule_list.append(rule)\n",
    "            sub_set_list.append(freq_set)\n",
    "    return rule_list"
   ]
  },
  {
   "cell_type": "code",
   "execution_count": 14,
   "id": "b2b00414",
   "metadata": {},
   "outputs": [],
   "source": [
    "rules_list = generate_rules(L, support_data, 0.5)"
   ]
  },
  {
   "cell_type": "markdown",
   "id": "cd153a2a",
   "metadata": {},
   "source": [
    "<h1>Creating rules DataFrame with rules and confedence</h1>"
   ]
  },
  {
   "cell_type": "code",
   "execution_count": 15,
   "id": "6518b1c1",
   "metadata": {},
   "outputs": [],
   "source": [
    "rule_df=pd.DataFrame(columns=[\"rules\", \"confidence\"])\n",
    "i=0\n",
    "for item in rules_list:\n",
    "    rule_df.loc[i]=[f'{item[0]} => {item[1]}', item[2]]\n",
    "    i+=1\n",
    "rule_df = rule_df.sort_values(\"confidence\", ascending=False)"
   ]
  },
  {
   "attachments": {},
   "cell_type": "markdown",
   "id": "7c0e7475",
   "metadata": {},
   "source": [
    "<h1>Save the rules DataFrame to a csv file and show the five first rows</h1>"
   ]
  },
  {
   "cell_type": "code",
   "execution_count": 16,
   "id": "65c5e597",
   "metadata": {},
   "outputs": [
    {
     "name": "stdout",
     "output_type": "stream",
     "text": [
      "976\n"
     ]
    },
    {
     "data": {
      "text/html": [
       "<div>\n",
       "<style scoped>\n",
       "    .dataframe tbody tr th:only-of-type {\n",
       "        vertical-align: middle;\n",
       "    }\n",
       "\n",
       "    .dataframe tbody tr th {\n",
       "        vertical-align: top;\n",
       "    }\n",
       "\n",
       "    .dataframe thead th {\n",
       "        text-align: right;\n",
       "    }\n",
       "</style>\n",
       "<table border=\"1\" class=\"dataframe\">\n",
       "  <thead>\n",
       "    <tr style=\"text-align: right;\">\n",
       "      <th></th>\n",
       "      <th>rules</th>\n",
       "      <th>confidence</th>\n",
       "    </tr>\n",
       "  </thead>\n",
       "  <tbody>\n",
       "    <tr>\n",
       "      <th>175</th>\n",
       "      <td>frozenset({15, 5, 7}) =&gt; frozenset({6})</td>\n",
       "      <td>0.902616</td>\n",
       "    </tr>\n",
       "    <tr>\n",
       "      <th>748</th>\n",
       "      <td>frozenset({2, 11, 14, 7}) =&gt; frozenset({1})</td>\n",
       "      <td>0.902420</td>\n",
       "    </tr>\n",
       "    <tr>\n",
       "      <th>629</th>\n",
       "      <td>frozenset({10, 11, 12, 14}) =&gt; frozenset({1})</td>\n",
       "      <td>0.900000</td>\n",
       "    </tr>\n",
       "    <tr>\n",
       "      <th>665</th>\n",
       "      <td>frozenset({2, 11, 12, 7}) =&gt; frozenset({1})</td>\n",
       "      <td>0.896761</td>\n",
       "    </tr>\n",
       "    <tr>\n",
       "      <th>953</th>\n",
       "      <td>frozenset({2, 3, 10, 11, 12}) =&gt; frozenset({1})</td>\n",
       "      <td>0.889960</td>\n",
       "    </tr>\n",
       "  </tbody>\n",
       "</table>\n",
       "</div>"
      ],
      "text/plain": [
       "                                               rules  confidence\n",
       "175          frozenset({15, 5, 7}) => frozenset({6})    0.902616\n",
       "748      frozenset({2, 11, 14, 7}) => frozenset({1})    0.902420\n",
       "629    frozenset({10, 11, 12, 14}) => frozenset({1})    0.900000\n",
       "665      frozenset({2, 11, 12, 7}) => frozenset({1})    0.896761\n",
       "953  frozenset({2, 3, 10, 11, 12}) => frozenset({1})    0.889960"
      ]
     },
     "execution_count": 16,
     "metadata": {},
     "output_type": "execute_result"
    }
   ],
   "source": [
    "rule_df.to_csv(\"rules.csv\", encoding='utf-8', index=False)\n",
    "print(len(rules_list))\n",
    "rule_df.head()"
   ]
  }
 ],
 "metadata": {
  "kernelspec": {
   "display_name": "mehdi",
   "language": "python",
   "name": "python3"
  },
  "language_info": {
   "codemirror_mode": {
    "name": "ipython",
    "version": 3
   },
   "file_extension": ".py",
   "mimetype": "text/x-python",
   "name": "python",
   "nbconvert_exporter": "python",
   "pygments_lexer": "ipython3",
   "version": "3.10.8 (main, Nov 24 2022, 14:13:03) [GCC 11.2.0]"
  },
  "vscode": {
   "interpreter": {
    "hash": "41277b567f2ceacf6190784283c4c817ee6680e11f29856b8c36db37904cfb5d"
   }
  }
 },
 "nbformat": 4,
 "nbformat_minor": 5
}
